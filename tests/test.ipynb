{
 "cells": [
  {
   "cell_type": "markdown",
   "metadata": {},
   "source": [
    "## Testy - Backend"
   ]
  },
  {
   "cell_type": "code",
   "execution_count": 101,
   "metadata": {},
   "outputs": [],
   "source": [
    "export SERVER_URL=\"http://127.0.0.1:5000\""
   ]
  },
  {
   "cell_type": "markdown",
   "metadata": {},
   "source": [
    "### Test 1: Prihlásenie užívateľa [kladný test]\n",
    "#### Vstupné podmienky:\n",
    "Používateľ nie je prihlásený v aplikácií, aplikácia má pripojenie na Internet. V databáze sa nachádzajú dolu uvedené záznamy.\n",
    "Existujúce záznamy:\n",
    "* User `exampleUser` heslo `Nbu123sr`\n",
    "* User `superUser` heslo `naughty`\n",
    "\n",
    "\n",
    "#### Výstupné podmienky:\n",
    "Používateľ sa prihlási do aplikaćie\n",
    "\n",
    "#### REQUEST/REPLY\n",
    "Request 1:  "
   ]
  },
  {
   "cell_type": "code",
   "execution_count": 102,
   "metadata": {},
   "outputs": [
    {
     "name": "stdout",
     "output_type": "stream",
     "text": [
      "{\n",
      "    \"authenticated\": \"true\",\n",
      "    \"access_token\": \"GaKYG61SKL8tImjr23z3cQMLwTZoF5uDokuse7yb\"\n",
      "}\n"
     ]
    }
   ],
   "source": [
    "curl --request GET \\\n",
    "  --url \"$SERVER_URL\"\"/v1/hello\" \\\n",
    "  -u 'exampleUser:Nbu123sr' \\\n",
    "  --header 'Accept: application/json'"
   ]
  },
  {
   "cell_type": "markdown",
   "metadata": {},
   "source": [
    "Request 2:  \n"
   ]
  },
  {
   "cell_type": "code",
   "execution_count": 103,
   "metadata": {},
   "outputs": [
    {
     "name": "stdout",
     "output_type": "stream",
     "text": [
      "{\n",
      "    \"authenticated\": \"true\",\n",
      "    \"access_token\": \"mF1xd8qV6nuFfCZs3wtcBuYVeGf6M803yCINWkCT\"\n",
      "}\n"
     ]
    }
   ],
   "source": [
    "curl --request GET \\\n",
    "  --url \"$SERVER_URL\"\"/v1/hello\" \\\n",
    "  -u 'superUser:naughty' \\\n",
    "  --header 'Accept: application/json'"
   ]
  },
  {
   "cell_type": "markdown",
   "metadata": {},
   "source": [
    "## Set SERVER_TOKEN for example_user from Request n° 1 !!!"
   ]
  },
  {
   "cell_type": "code",
   "execution_count": 104,
   "metadata": {},
   "outputs": [],
   "source": [
    "export SERVER_TOKEN=\"GaKYG61SKL8tImjr23z3cQMLwTZoF5uDokuse7yb\""
   ]
  },
  {
   "cell_type": "markdown",
   "metadata": {},
   "source": [
    "#### Výsledok:\n",
    "PASS / FAIL\n",
    "\n",
    "\n",
    "### Test 2: Prihlásenie užívateľa [záporný test]\n",
    "#### Vstupné podmienky:\n",
    "Používateľ nie je prihlásený v aplikácií, aplikácia má pripojenie na Internet. V databáze sa nachádzajú dolu uvedené záznamy.\n",
    "Existujúce záznamy:\n",
    "* User `exampleUser` heslo `Nbu123sr`\n",
    "* User `superUser` heslo `naughty`\n",
    "\n",
    "#### Výstupné podmienky:\n",
    "Používateľ sa neprihlási do aplikácie.\n",
    "\n",
    "#### REQUEST/REPLY\n",
    "Request 1:  "
   ]
  },
  {
   "cell_type": "code",
   "execution_count": 105,
   "metadata": {},
   "outputs": [
    {
     "name": "stdout",
     "output_type": "stream",
     "text": [
      "{\n",
      "  \"authenticated\": \"false\", \n",
      "  \"errors\": {\n",
      "    \"password\": [\n",
      "      \"wrong\"\n",
      "    ]\n",
      "  }, \n",
      "  \"hint\": \"Please check the password for any typos or contact the administrator.\"\n",
      "}\n"
     ]
    }
   ],
   "source": [
    "curl --request GET \\\n",
    "  --url \"$SERVER_URL\"\"/v1/hello\" \\\n",
    "  -u 'exampleUser:Nbu123srr' \\\n",
    "  --header 'Accept: application/json'"
   ]
  },
  {
   "cell_type": "markdown",
   "metadata": {},
   "source": [
    "Request 2: "
   ]
  },
  {
   "cell_type": "code",
   "execution_count": 106,
   "metadata": {},
   "outputs": [
    {
     "name": "stdout",
     "output_type": "stream",
     "text": [
      "{\n",
      "  \"authenticated\": \"false\", \n",
      "  \"errors\": {\n",
      "    \"password\": [\n",
      "      \"none\"\n",
      "    ]\n",
      "  }, \n",
      "  \"hint\": \"Please enter a password for the HTTP basic authentication.\"\n",
      "}\n"
     ]
    }
   ],
   "source": [
    "curl --request GET \\\n",
    "  --url \"$SERVER_URL\"\"/v1/hello\" \\\n",
    "  -u 'exampleUser:' \\\n",
    "  --header 'Accept: application/json'"
   ]
  },
  {
   "cell_type": "markdown",
   "metadata": {},
   "source": [
    "#### Výsledok:\n",
    "PASS / FAIL\n",
    "\n",
    "\n",
    "\n",
    "### Test 3: Pridanie postu [záporný test]\n",
    "#### Vstupné podmienky:\n",
    "Používateľ je prihlásený v aplikácií, aplikácia má pripojenie na Internet.\n",
    "Existujúce záznamy:\n",
    "* User `exampleUser` heslo `Nbu123sr`\n",
    "* User `superUser` heslo `naughty`\n",
    "\n",
    "#### Výstupné podmienky:\n",
    "Používateľ nepridá nasledujúce posty do databázy.\n",
    "\n",
    "#### REQUEST/REPLY\n",
    "Request 1:  "
   ]
  },
  {
   "cell_type": "code",
   "execution_count": 107,
   "metadata": {},
   "outputs": [
    {
     "name": "stdout",
     "output_type": "stream",
     "text": [
      "{\n",
      "  \"error\": \"value too long for type character varying(150)\\n\", \n",
      "  \"errors\": {\n",
      "    \"server_error\": \"unknown\"\n",
      "  }, \n",
      "  \"hint\": \"Please wait or contact the administrator.\"\n",
      "}\n"
     ]
    }
   ],
   "source": [
    "curl --request POST \\\n",
    "  --url \"$SERVER_URL\"\"/v1/post/\" \\\n",
    "  --header \"Authorization: Token \"\"$SERVER_TOKEN\" \\\n",
    "  --header 'Accept: application/json' \\\n",
    "  --header 'Content-type: application/json' \\\n",
    "  --data '{\"post\":{\"content\":\"Very new post which is very long long long long long long long long long long long long long long long long long long long long long long long long long.\"}}'"
   ]
  },
  {
   "cell_type": "markdown",
   "metadata": {},
   "source": [
    "Request 2:  \n"
   ]
  },
  {
   "cell_type": "code",
   "execution_count": 108,
   "metadata": {},
   "outputs": [
    {
     "name": "stdout",
     "output_type": "stream",
     "text": [
      "{\n",
      "    \"authenticated\": true,\n",
      "    \"error\": {\n",
      "        \"content\": \"none\"\n",
      "    },\n",
      "    \"hint\": \"The content of the post is missing, try adding some!\"\n",
      "}\n"
     ]
    }
   ],
   "source": [
    "curl --request POST \\\n",
    "  --url \"$SERVER_URL\"\"/v1/post/\" \\\n",
    "  --header \"Authorization: Token \"\"$SERVER_TOKEN\" \\\n",
    "  --header 'Accept: application/json' \\\n",
    "  --header 'Content-type: application/json' \\\n",
    "  --data '{\"post\":{\"content\":\"\"}}'"
   ]
  },
  {
   "cell_type": "markdown",
   "metadata": {},
   "source": [
    "#### Výsledok:\n",
    "PASS / FAIL\n",
    "\n",
    "### Test 4: Pridanie postu [kladný test]\n",
    "#### Vstupné podmienky:\n",
    "Používateľ je prihlásený v aplikácií, aplikácia má pripojenie na Internet.\n",
    "Existujúce záznamy:\n",
    "* User `exampleUser` heslo `Nbu123sr`\n",
    "* User `superUser` heslo `naughty`\n",
    "\n",
    "#### Výstupné podmienky:\n",
    "Používateľ pridá nasledujúce posty do databázy.\n",
    "\n",
    "#### REQUEST/REPLY\n",
    "Request 1:  "
   ]
  },
  {
   "cell_type": "code",
   "execution_count": 109,
   "metadata": {},
   "outputs": [
    {
     "name": "stdout",
     "output_type": "stream",
     "text": [
      "{\n",
      "    \"posts\": [\n",
      "        {\n",
      "            \"posts.id\": \"3\",\n",
      "            \"users.username\": \"exampleUser\",\n",
      "            \"users.formatted_name\": \"Mr. Example\",\n",
      "            \"posts.publish_time\": \"2019-10-10 00:00:00\",\n",
      "            \"posts.photo\": null,\n",
      "            \"posts.content\": \"Very new post which is very nice :-)\",\n",
      "            \"posts.last_edit_time\": null\n",
      "        }\n",
      "    ]\n",
      "}\n"
     ]
    }
   ],
   "source": [
    "curl --request POST \\\n",
    "  --url \"$SERVER_URL\"\"/v1/post/\" \\\n",
    "  --header \"Authorization: Token \"\"$SERVER_TOKEN\" \\\n",
    "  --header 'Accept: application/json' \\\n",
    "  --header 'Content-type: application/json' \\\n",
    "  --data '{\"post\":{\"content\":\"Very new post which is very nice :-)\"}}'"
   ]
  },
  {
   "cell_type": "code",
   "execution_count": 110,
   "metadata": {},
   "outputs": [
    {
     "name": "stdout",
     "output_type": "stream",
     "text": [
      "{\n",
      "    \"posts\": [\n",
      "        {\n",
      "            \"posts.id\": \"4\",\n",
      "            \"users.username\": \"exampleUser\",\n",
      "            \"users.formatted_name\": \"Mr. Example\",\n",
      "            \"posts.publish_time\": \"2019-10-10 00:00:00\",\n",
      "            \"posts.photo\": null,\n",
      "            \"posts.content\": \"My Second post\",\n",
      "            \"posts.last_edit_time\": null\n",
      "        }\n",
      "    ]\n",
      "}\n"
     ]
    }
   ],
   "source": [
    "curl --request POST \\\n",
    "  --url \"$SERVER_URL\"\"/v1/post/\" \\\n",
    "  --header \"Authorization: Token \"\"$SERVER_TOKEN\" \\\n",
    "  --header 'Accept: application/json' \\\n",
    "  --header 'Content-type: application/json' \\\n",
    "  --data '{\"post\":{\"content\":\"My Second post\"}}'\n"
   ]
  },
  {
   "cell_type": "markdown",
   "metadata": {},
   "source": [
    "#### Výsledok:\n",
    "PASS / FAIL\n",
    "\n",
    "### Test 5: Upravenie postu [kladný test]\n",
    "#### Vstupné podmienky:\n",
    "Používateľ je prihlásený v aplikácií, aplikácia má pripojenie na Internet. V aplikacii sa nachádzajú žiadané posty.\n",
    "Existujúce záznamy:\n",
    "* User `exampleUser` heslo `Nbu123sr`\n",
    "* User `superUser` heslo `naughty`\n",
    "* Posty s indexmi 2 a 3 z testu č. 4\n",
    "\n",
    "#### Výstupné podmienky:\n",
    "Používateľ upraví nasledujúce posty v databáze.\n",
    "\n",
    "#### REQUEST/REPLY\n",
    "Request 1:  "
   ]
  },
  {
   "cell_type": "code",
   "execution_count": 111,
   "metadata": {},
   "outputs": [
    {
     "name": "stdout",
     "output_type": "stream",
     "text": [
      "{\n",
      "    \"posts\": [\n",
      "        {\n",
      "            \"posts.id\": \"1\",\n",
      "            \"users.username\": \"exampleUser\",\n",
      "            \"users.formatted_name\": \"Mr. Example\",\n",
      "            \"posts.publish_time\": \"2019-10-10 00:00:00\",\n",
      "            \"posts.photo\": null,\n",
      "            \"posts.content\": \"Updated first post\",\n",
      "            \"posts.last_edit_time\": null\n",
      "        }\n",
      "    ]\n",
      "}\n"
     ]
    }
   ],
   "source": [
    "curl --request PATCH \\\n",
    "  --url \"$SERVER_URL\"\"/v1/post/1\" \\\n",
    "  --header \"Authorization: Token \"\"$SERVER_TOKEN\" \\\n",
    "  --header 'Accept: application/json' \\\n",
    "  --header 'Content-type: application/json' \\\n",
    "  --data '{\"post\":{\"content\":\"Updated first post\"}}'"
   ]
  },
  {
   "cell_type": "markdown",
   "metadata": {},
   "source": [
    "Request 2:  "
   ]
  },
  {
   "cell_type": "code",
   "execution_count": 112,
   "metadata": {},
   "outputs": [
    {
     "name": "stdout",
     "output_type": "stream",
     "text": [
      "{\n",
      "    \"posts\": [\n",
      "        {\n",
      "            \"posts.id\": \"1\",\n",
      "            \"users.username\": \"exampleUser\",\n",
      "            \"users.formatted_name\": \"Mr. Example\",\n",
      "            \"posts.publish_time\": \"2019-10-10 00:00:00\",\n",
      "            \"posts.photo\": null,\n",
      "            \"posts.content\": \"My Second (updated) post\",\n",
      "            \"posts.last_edit_time\": null\n",
      "        }\n",
      "    ]\n",
      "}\n"
     ]
    }
   ],
   "source": [
    "curl --request PATCH \\\n",
    "  --url \"$SERVER_URL\"\"/v1/post/1\" \\\n",
    "  --header \"Authorization: Token \"\"$SERVER_TOKEN\" \\\n",
    "  --header 'Accept: application/json' \\\n",
    "  --header 'Content-type: application/json' \\\n",
    "  --data '{\"post\":{\"content\":\"My Second (updated) post\"}}'"
   ]
  },
  {
   "cell_type": "markdown",
   "metadata": {},
   "source": [
    "#### Výsledok:\n",
    "PASS / FAIL"
   ]
  }
 ],
 "metadata": {
  "kernelspec": {
   "display_name": "Bash",
   "language": "bash",
   "name": "bash"
  },
  "language_info": {
   "codemirror_mode": "shell",
   "file_extension": ".sh",
   "mimetype": "text/x-sh",
   "name": "bash"
  }
 },
 "nbformat": 4,
 "nbformat_minor": 4
}
